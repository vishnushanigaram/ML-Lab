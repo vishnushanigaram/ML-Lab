{
 "cells": [
  {
   "cell_type": "code",
   "execution_count": 10,
   "metadata": {},
   "outputs": [
    {
     "name": "stdout",
     "output_type": "stream",
     "text": [
      "    Manufacturer              Model  Sales in thousands 4-year resale value  \\\n",
      "0  Acura          Integra                        16.919               16.36   \n",
      "1  Acura          TL                             39.384              19.875   \n",
      "2  Acura          CL                             14.114              18.225   \n",
      "3  Acura          RL                              8.588              29.725   \n",
      "4  Audi           A4                             20.397              22.255   \n",
      "\n",
      "  Vehicle type Price in thousands Engine size Horsepower Wheelbase Width  \\\n",
      "0    Passenger               21.5         1.8        140     101.2  67.3   \n",
      "1    Passenger               28.4         3.2        225     108.1  70.3   \n",
      "2    Passenger                  .         3.2        225     106.9  70.6   \n",
      "3    Passenger                 42         3.5        210     114.6  71.4   \n",
      "4    Passenger              23.99         1.8        150     102.6  68.2   \n",
      "\n",
      "  Length Curb weight Fuel capacity Fuel efficiency Latest Launch  \n",
      "0  172.4       2.639          13.2              28      2-Feb-14  \n",
      "1  192.9       3.517          17.2              25      6-Mar-15  \n",
      "2    192        3.47          17.2              26      1-Apr-14  \n",
      "3  196.6        3.85            18              22      3-Oct-15  \n",
      "4    178       2.998          16.4              27     10-Aug-15  \n"
     ]
    }
   ],
   "source": [
    "import pandas as pd\n",
    "import numpy as np\n",
    "\n",
    "df=pd.read_csv('Car_sales.csv')\n",
    "print(df.head())"
   ]
  },
  {
   "cell_type": "code",
   "execution_count": null,
   "metadata": {},
   "outputs": [],
   "source": []
  }
 ],
 "metadata": {
  "kernelspec": {
   "display_name": "base",
   "language": "python",
   "name": "python3"
  },
  "language_info": {
   "codemirror_mode": {
    "name": "ipython",
    "version": 3
   },
   "file_extension": ".py",
   "mimetype": "text/x-python",
   "name": "python",
   "nbconvert_exporter": "python",
   "pygments_lexer": "ipython3",
   "version": "3.12.7"
  }
 },
 "nbformat": 4,
 "nbformat_minor": 2
}
