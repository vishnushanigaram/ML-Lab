{
 "cells": [
  {
   "cell_type": "code",
   "execution_count": 1,
   "id": "460f14bb",
   "metadata": {},
   "outputs": [],
   "source": [
    "#Import the Necessary Libraries\n",
    "import numpy as np\n",
    "import pandas as pd\n",
    "import matplotlib.pyplot as plt\n",
    "import seaborn as sns"
   ]
  },
  {
   "cell_type": "code",
   "execution_count": 2,
   "id": "893bdbeb",
   "metadata": {},
   "outputs": [],
   "source": [
    "df=pd.read_csv(\"newsgroups_train.csv\")"
   ]
  },
  {
   "cell_type": "code",
   "execution_count": 6,
   "id": "87cc9845",
   "metadata": {},
   "outputs": [
    {
     "name": "stdout",
     "output_type": "stream",
     "text": [
      "[2 1 0]\n"
     ]
    }
   ],
   "source": [
    "print(df['target'].unique())\n",
    "\n"
   ]
  },
  {
   "cell_type": "code",
   "execution_count": null,
   "id": "d7dbd53f",
   "metadata": {},
   "outputs": [],
   "source": [
    "import numpy as np\n",
    "import pandas as pd\n",
    "from sklearn.feature_extraction.text import CountVectorizer\n",
    "from sklearn.naive_bayes import MultinomialNB, GuassianNB\n",
    "from sklearn.metrics import accuracy_score, classification_report\n",
    "df = pd.read_csv('newsgroups_train.csv', on_bad_lines='skip')\n",
    "df.head()\n",
    "df.shape\n",
    "df.dropna(inplace=True)\n",
    "df.isnull().sum()\n",
    "text_col = df['text']\n",
    "text_col\n",
    "\n",
    "vectorizer = CountVectorizer()\n",
    "text_col_transformed = vectorizer.fit_transform(text_col)\n",
    "text_col_transformed\n",
    "print(text_col_transformed.toarray())\n",
    "text_col_transformed = text_col_transformed.toarray()\n",
    "X_train = text_col_transformed\n",
    "y_train = df['target']\n",
    "X_train\n",
    "\n",
    "model = MultinomialNB()\n",
    "model.fit(X_train, y_train)\n",
    "\n",
    "y_predict = model.predict(X_train)\n",
    "accuracy_score = accuracy_score(y_train, y_predict)\n",
    "print(accuracy_score)\n",
    "classification_report = classification_report(y_train, y_predict)\n",
    "print(classification_report)"
   ]
  }
 ],
 "metadata": {
  "kernelspec": {
   "display_name": "base",
   "language": "python",
   "name": "python3"
  },
  "language_info": {
   "codemirror_mode": {
    "name": "ipython",
    "version": 3
   },
   "file_extension": ".py",
   "mimetype": "text/x-python",
   "name": "python",
   "nbconvert_exporter": "python",
   "pygments_lexer": "ipython3",
   "version": "3.12.7"
  }
 },
 "nbformat": 4,
 "nbformat_minor": 5
}
